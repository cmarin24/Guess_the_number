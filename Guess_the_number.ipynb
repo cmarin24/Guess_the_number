{
 "cells": [
  {
   "cell_type": "code",
   "execution_count": 1,
   "metadata": {},
   "outputs": [
    {
     "name": "stdout",
     "output_type": "stream",
     "text": [
      "Wrong! Guess again!\n",
      "Wrong! Guess again!\n",
      "Wrong! Guess again!\n",
      "Wrong! Guess again!\n",
      "Wrong! Guess again!\n",
      "Wrong! Guess again!\n",
      "Wrong! Guess again!\n",
      "Wrong! Guess again!\n",
      "Correct! The number is  4\n"
     ]
    }
   ],
   "source": [
    "import random\n",
    "\n",
    "num = random.randint(1,8)\n",
    "guess = None\n",
    "\n",
    "while guess !=num:\n",
    "    guess = int(input(\"Guess a number between 1 and 8: \"))\n",
    "    \n",
    "    if guess == num:\n",
    "        print(\"Correct! The number is \", num)\n",
    "        break\n",
    "    else:\n",
    "        print(\"Wrong! Guess again!\")"
   ]
  }
 ],
 "metadata": {
  "interpreter": {
   "hash": "916dbcbb3f70747c44a77c7bcd40155683ae19c65e1c03b4aa3499c5328201f1"
  },
  "kernelspec": {
   "display_name": "Python 3.9.2 64-bit",
   "language": "python",
   "name": "python3"
  },
  "language_info": {
   "codemirror_mode": {
    "name": "ipython",
    "version": 3
   },
   "file_extension": ".py",
   "mimetype": "text/x-python",
   "name": "python",
   "nbconvert_exporter": "python",
   "pygments_lexer": "ipython3",
   "version": "3.9.2"
  },
  "orig_nbformat": 4
 },
 "nbformat": 4,
 "nbformat_minor": 2
}
